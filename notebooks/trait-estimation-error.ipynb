{
 "cells": [
  {
   "cell_type": "markdown",
   "metadata": {},
   "source": [
    "# Prelimaries & Setup\n"
   ]
  },
  {
   "cell_type": "code",
   "execution_count": null,
   "metadata": {},
   "outputs": [],
   "source": [
    "import ast\n",
    "import os\n",
    "import random\n",
    "import tempfile\n",
    "\n",
    "from nbmetalog import nbmetalog as nbm\n",
    "import numpy as np\n",
    "import pandas as pd\n",
    "from teeplot import teeplot as tp\n",
    "from tqdm import tqdm\n",
    "from scipy import stats as scipy_stats\n",
    "import seaborn as sns\n"
   ]
  },
  {
   "cell_type": "code",
   "execution_count": null,
   "metadata": {},
   "outputs": [],
   "source": [
    "random.seed(1)\n",
    "np.random.seed(1)\n"
   ]
  },
  {
   "cell_type": "code",
   "execution_count": null,
   "metadata": {},
   "outputs": [],
   "source": [
    "nbm.print_metadata()\n"
   ]
  },
  {
   "cell_type": "markdown",
   "metadata": {},
   "source": [
    "# Fetch Data\n"
   ]
  },
  {
   "cell_type": "code",
   "execution_count": null,
   "metadata": {},
   "outputs": [],
   "source": [
    "df = pd.read_csv(\"https://osf.io/45b6h/download\", compression=\"gzip\")\n",
    "df\n"
   ]
  },
  {
   "cell_type": "code",
   "execution_count": null,
   "metadata": {},
   "outputs": [],
   "source": [
    "dfdigest = np.bitwise_xor.reduce(\n",
    "    pd.util.hash_pandas_object(df),\n",
    ")\n",
    "print(\"{:x}\".format(dfdigest))\n"
   ]
  },
  {
   "cell_type": "code",
   "execution_count": null,
   "metadata": {},
   "outputs": [],
   "source": [
    "# subset data to keep exploratory analyses tractable\n",
    "df = df[(df[\"update\"] == 20000) & (df[\"TEST_DOWN_SAMPLE_RATE\"] == 0.5)]\n",
    "df = df.sample(frac=0.2)\n"
   ]
  },
  {
   "cell_type": "markdown",
   "metadata": {},
   "source": [
    "# Convert Data Vectors to Long-Form\n",
    "\n",
    "i.e., each trait of each individual is a single row\n"
   ]
  },
  {
   "cell_type": "code",
   "execution_count": null,
   "metadata": {},
   "outputs": [],
   "source": [
    "vector_columns = (\n",
    "    #     \"genome\",\n",
    "    \"phenotype\",\n",
    "    \"traits_attempted_estimations\",\n",
    "    \"traits_estimation_dist\",\n",
    "    \"traits_estimated_scores\",\n",
    "    \"traits_estimation_source_ids\",\n",
    "    \"traits_evaluated\",\n",
    "    \"traits_successful_estimations\",\n",
    ")\n"
   ]
  },
  {
   "cell_type": "code",
   "execution_count": null,
   "metadata": {},
   "outputs": [],
   "source": [
    "for column in tqdm(vector_columns):\n",
    "    print(column)\n",
    "    df[column] = df[column].apply(ast.literal_eval)\n"
   ]
  },
  {
   "cell_type": "code",
   "execution_count": null,
   "metadata": {},
   "outputs": [],
   "source": [
    "df[\"vector len\"] = df[\"traits_evaluated\"].apply(len)\n",
    "for column in tqdm(vector_columns):\n",
    "    print(column)\n",
    "    assert (df[column].apply(len) == df[\"vector len\"]).all()\n"
   ]
  },
  {
   "cell_type": "code",
   "execution_count": null,
   "metadata": {},
   "outputs": [],
   "source": [
    "df[\"vector index\"] = df[\"vector len\"].apply(lambda x: [*range(x)])\n"
   ]
  },
  {
   "cell_type": "code",
   "execution_count": null,
   "metadata": {},
   "outputs": [],
   "source": [
    "df[\"num traits evaluated\"] = df[\"traits_evaluated\"].apply(sum)\n",
    "df[\"num attempted trait estimations\"] = df[\"traits_attempted_estimations\"].apply(sum)\n",
    "df[\"num successful trait estimations\"] = df[\"traits_successful_estimations\"].apply(sum)\n"
   ]
  },
  {
   "cell_type": "code",
   "execution_count": null,
   "metadata": {},
   "outputs": [],
   "source": [
    "(df[\"num successful trait estimations\"] == df[\"num attempted trait estimations\"]).all()\n"
   ]
  },
  {
   "cell_type": "code",
   "execution_count": null,
   "metadata": {},
   "outputs": [],
   "source": [
    "# chunk to prevent running out of memory\n",
    "chunk_size = 32768\n",
    "num_chunks = (len(df) + chunk_size - 1) // chunk_size\n",
    "\n",
    "exploded_chunks = []\n",
    "for i in tqdm(range(num_chunks)):\n",
    "    start_idx = i * chunk_size\n",
    "    end_idx = min((i + 1) * chunk_size, len(df))\n",
    "    chunk = df.iloc[start_idx:end_idx]\n",
    "\n",
    "    exploded_chunk = chunk.explode([\"vector index\", *vector_columns])\n",
    "    exploded_chunks.append(exploded_chunk)\n"
   ]
  },
  {
   "cell_type": "code",
   "execution_count": null,
   "metadata": {},
   "outputs": [],
   "source": [
    "# concatenate chunks to single csv, delete from memory, then reload from csv\n",
    "with tempfile.NamedTemporaryFile(mode=\"w\") as tmpfile:\n",
    "    for i, exploded_chunk in enumerate(tqdm(exploded_chunks)):\n",
    "        kwargs = {\"index\": False, \"chunksize\": 4096}\n",
    "        if i:\n",
    "            kwargs[\"mode\"] = \"a\"\n",
    "            kwargs[\"header\"] = False\n",
    "        exploded_chunk.to_csv(tmpfile.name, **kwargs)\n",
    "        tmpfile.flush()\n",
    "\n",
    "    del exploded_chunks\n",
    "    exploded_df = pd.read_csv(tmpfile.name)\n",
    "\n",
    "exploded_df\n"
   ]
  },
  {
   "cell_type": "markdown",
   "metadata": {},
   "source": [
    "# Setup New Columns needed for Analyses\n"
   ]
  },
  {
   "cell_type": "code",
   "execution_count": null,
   "metadata": {},
   "outputs": [],
   "source": [
    "exploded_df[\"trait estimation error\"] = (\n",
    "    exploded_df[\"phenotype\"] - exploded_df[\"traits_estimated_scores\"]\n",
    ")\n",
    "exploded_df[\"trait estimation abs error\"] = exploded_df[\"trait estimation error\"].abs()\n"
   ]
  },
  {
   "cell_type": "code",
   "execution_count": null,
   "metadata": {},
   "outputs": [],
   "source": [
    "exploded_df[\"is evaluated\"] = exploded_df[\"traits_evaluated\"] == 1\n",
    "exploded_df[\"is evaluated\"].sum()\n"
   ]
  },
  {
   "cell_type": "code",
   "execution_count": null,
   "metadata": {},
   "outputs": [],
   "source": [
    "exploded_df[\"is attempted estimation\"] = (\n",
    "    exploded_df[\"traits_attempted_estimations\"] == 1\n",
    ")\n",
    "exploded_df[\"is attempted estimation\"].sum()\n"
   ]
  },
  {
   "cell_type": "code",
   "execution_count": null,
   "metadata": {},
   "outputs": [],
   "source": [
    "exploded_df[\"is successful estimation\"] = (\n",
    "    exploded_df[\"traits_successful_estimations\"] == 1\n",
    ")\n",
    "exploded_df[\"is successful estimation\"].sum()\n"
   ]
  },
  {
   "cell_type": "code",
   "execution_count": null,
   "metadata": {},
   "outputs": [],
   "source": [
    "exploded_df[\"is failed estimation\"] = exploded_df[\"traits_successful_estimations\"] == 0\n",
    "exploded_df[\"is failed estimation\"].sum()\n"
   ]
  },
  {
   "cell_type": "code",
   "execution_count": null,
   "metadata": {},
   "outputs": [],
   "source": [
    "assert not (\n",
    "    exploded_df[\"is successful estimation\"] & exploded_df[\"is failed estimation\"]\n",
    ").any()\n"
   ]
  },
  {
   "cell_type": "code",
   "execution_count": null,
   "metadata": {},
   "outputs": [],
   "source": [
    "exploded_df[\"estimation outcome\"] = \"na\"\n",
    "exploded_df.loc[\n",
    "    exploded_df[\"is failed estimation\"],\n",
    "    \"estimation outcome\",\n",
    "] = \"failed\"\n",
    "exploded_df.loc[\n",
    "    exploded_df[\"is successful estimation\"],\n",
    "    \"estimation outcome\",\n",
    "] = \"successful\"\n"
   ]
  },
  {
   "cell_type": "markdown",
   "metadata": {},
   "source": [
    "# Plot: estimation mode vs estimation failure\n"
   ]
  },
  {
   "cell_type": "code",
   "execution_count": null,
   "metadata": {},
   "outputs": [],
   "source": [
    "g = sns.FacetGrid(\n",
    "    exploded_df,\n",
    "    col=\"EVAL_FIT_EST_MODE\",\n",
    "    row=\"DIAGNOSTIC\",\n",
    "    margin_titles=True,\n",
    ")\n",
    "g.map(\n",
    "    sns.countplot,\n",
    "    \"estimation outcome\",\n",
    ")\n"
   ]
  },
  {
   "cell_type": "markdown",
   "metadata": {},
   "source": [
    "# Plot: estimated score vs phenotype\n",
    "\n",
    "by diagnostic and estimate mode\n"
   ]
  },
  {
   "cell_type": "code",
   "execution_count": null,
   "metadata": {},
   "outputs": [],
   "source": [
    "g = sns.FacetGrid(\n",
    "    exploded_df[\n",
    "        #         :\n",
    "        exploded_df[\"is successful estimation\"]\n",
    "    ],\n",
    "    col=\"DIAGNOSTIC\",\n",
    "    row=\"EVAL_FIT_EST_MODE\",\n",
    "    margin_titles=True,\n",
    ")\n",
    "g.map(\n",
    "    sns.scatterplot,\n",
    "    \"phenotype\",\n",
    "    \"traits_estimated_scores\",\n",
    ")\n"
   ]
  },
  {
   "cell_type": "markdown",
   "metadata": {},
   "source": [
    "# Plot: trait estimation error vs phylogenetic distance\n",
    "\n",
    "for each diagnostic and estimation mode\n"
   ]
  },
  {
   "cell_type": "code",
   "execution_count": null,
   "metadata": {},
   "outputs": [],
   "source": [
    "g = sns.FacetGrid(\n",
    "    exploded_df[\n",
    "        #         :\n",
    "        exploded_df[\"is successful estimation\"]\n",
    "        & (exploded_df[\"traits_estimation_dist\"] > 0)\n",
    "    ],\n",
    "    col=\"DIAGNOSTIC\",\n",
    "    row=\"EVAL_FIT_EST_MODE\",\n",
    "    margin_titles=True,\n",
    "    sharex=False,\n",
    "    sharey=False,\n",
    ")\n",
    "g.map(\n",
    "    sns.regplot,\n",
    "    \"traits_estimation_dist\",\n",
    "    \"trait estimation abs error\",\n",
    "    n_boot=10,\n",
    "    scatter_kws={\n",
    "        \"color\": \"red\",\n",
    "        \"alpha\": 0.1,\n",
    "    },\n",
    ")\n"
   ]
  },
  {
   "cell_type": "markdown",
   "metadata": {},
   "source": [
    "# Plot: mean estimation error by diagnostic/estimation mode\n"
   ]
  },
  {
   "cell_type": "code",
   "execution_count": null,
   "metadata": {},
   "outputs": [],
   "source": [
    "g = sns.FacetGrid(\n",
    "    exploded_df[\n",
    "        #         :\n",
    "        exploded_df[\"is successful estimation\"]\n",
    "        & (exploded_df[\"traits_estimation_dist\"] > 0)\n",
    "    ],\n",
    "    row=\"DIAGNOSTIC\",\n",
    "    margin_titles=True,\n",
    "    sharey=\"row\",\n",
    "    sharex=False,\n",
    ")\n",
    "g.map(\n",
    "    sns.barplot,\n",
    "    \"EVAL_FIT_EST_MODE\",\n",
    "    \"trait estimation abs error\",\n",
    ")\n"
   ]
  },
  {
   "cell_type": "markdown",
   "metadata": {},
   "source": [
    "# Plot: phylogenetic estimation distance by diagnostic/estimation mode\n"
   ]
  },
  {
   "cell_type": "code",
   "execution_count": null,
   "metadata": {},
   "outputs": [],
   "source": [
    "g = sns.FacetGrid(\n",
    "    exploded_df[\n",
    "        #         :\n",
    "        exploded_df[\"is successful estimation\"]\n",
    "        & (exploded_df[\"traits_estimation_dist\"] > 0)\n",
    "    ],\n",
    "    row=\"DIAGNOSTIC\",\n",
    "    margin_titles=True,\n",
    "    sharey=\"row\",\n",
    "    sharex=False,\n",
    ")\n",
    "g.map(\n",
    "    sns.barplot,\n",
    "    \"EVAL_FIT_EST_MODE\",\n",
    "    \"traits_estimation_dist\",\n",
    ")\n"
   ]
  },
  {
   "cell_type": "code",
   "execution_count": null,
   "metadata": {},
   "outputs": [],
   "source": [
    "g = sns.FacetGrid(\n",
    "    exploded_df[exploded_df[\"is attempted estimation\"]],\n",
    "    row=\"DIAGNOSTIC\",\n",
    "    margin_titles=True,\n",
    "    sharey=\"row\",\n",
    "    sharex=False,\n",
    ")\n",
    "g.map(\n",
    "    sns.barplot,\n",
    "    \"EVAL_FIT_EST_MODE\",\n",
    "    \"is successful estimation\",\n",
    ")\n",
    "\n",
    "print(\n",
    "    sum(\n",
    "        exploded_df[\"is attempted estimation\"] & exploded_df[\"is successful estimation\"]\n",
    "    )\n",
    ")\n"
   ]
  },
  {
   "cell_type": "markdown",
   "metadata": {},
   "source": [
    "# Plot: error distributions\n",
    "\n",
    "by diagnostic/evaluation mode\n"
   ]
  },
  {
   "cell_type": "code",
   "execution_count": null,
   "metadata": {},
   "outputs": [],
   "source": [
    "g = sns.FacetGrid(\n",
    "    exploded_df[exploded_df[\"is successful estimation\"]],\n",
    "    col=\"DIAGNOSTIC\",\n",
    "    margin_titles=True,\n",
    "    sharex=False,\n",
    ")\n",
    "g.map(\n",
    "    sns.violinplot,\n",
    "    \"trait estimation abs error\",\n",
    "    \"EVAL_FIT_EST_MODE\",\n",
    ")\n"
   ]
  },
  {
   "cell_type": "markdown",
   "metadata": {},
   "source": [
    "# Statistics (TODO)\n"
   ]
  },
  {
   "cell_type": "code",
   "execution_count": null,
   "metadata": {},
   "outputs": [],
   "source": [
    "groupby_columns = [\n",
    "    \"EVAL_MODE\",\n",
    "    \"TEST_DOWN_SAMPLE_RATE\",\n",
    "    \"DIAGNOSTIC\",\n",
    "    \"EVAL_FIT_EST_MODE\",\n",
    "    \"update\",\n",
    "]\n",
    "for group, group_df in exploded_df.groupby(groupby_columns):\n",
    "    group_attrs = dict(zip(groupby_columns, group))\n",
    "    print(group_attrs)\n"
   ]
  }
 ],
 "metadata": {
  "kernelspec": {
   "display_name": "Python 3",
   "language": "python",
   "name": "python3"
  },
  "language_info": {
   "codemirror_mode": {
    "name": "ipython",
    "version": 3
   },
   "file_extension": ".py",
   "mimetype": "text/x-python",
   "name": "python",
   "nbconvert_exporter": "python",
   "pygments_lexer": "ipython3"
  }
 },
 "nbformat": 4,
 "nbformat_minor": 5
}
