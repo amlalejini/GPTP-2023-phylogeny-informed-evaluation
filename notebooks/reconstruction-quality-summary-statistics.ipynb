{
 "cells": [
  {
   "cell_type": "code",
   "execution_count": null,
   "metadata": {},
   "outputs": [],
   "source": [
    "import os\n",
    "\n",
    "from keyname import keyname as kn\n",
    "import matplotlib.pyplot as plt\n",
    "from nbmetalog import nbmetalog as nbm\n",
    "import numpy as np\n",
    "import os\n",
    "import pandas as pd\n",
    "import seaborn as sns\n",
    "from teeplot import teeplot\n"
   ]
  },
  {
   "cell_type": "code",
   "execution_count": null,
   "metadata": {},
   "outputs": [],
   "source": [
    "# prints metadata about notebook runtime\n",
    "nbm.print_metadata()\n"
   ]
  },
  {
   "cell_type": "code",
   "execution_count": null,
   "metadata": {},
   "outputs": [],
   "source": [
    "df = pd.read_csv(\"https://osf.io/ck47r/download\")\n",
    "dfdigest = np.bitwise_xor.reduce(\n",
    "    pd.util.hash_pandas_object(df),\n",
    ")\n",
    "print(\"{:x}\".format(dfdigest))\n",
    "df\n"
   ]
  },
  {
   "cell_type": "code",
   "execution_count": null,
   "metadata": {},
   "outputs": [],
   "source": [
    "evolutionary_variables = [\n",
    "    \"mut_distn\",  # sensitivity analysis\n",
    "    \"num_generations\",  # sensitivity analysis\n",
    "    \"num_islands\",\n",
    "    \"num_niches\",\n",
    "    \"p_island_migration\",  # sensitivity analysis\n",
    "    \"p_niche_invasion\",  # sensitivity analysis\n",
    "    \"population_size\",  # doesn't change\n",
    "    \"tournament_size\",\n",
    "]\n"
   ]
  },
  {
   "cell_type": "code",
   "execution_count": null,
   "metadata": {},
   "outputs": [],
   "source": [
    "df = df[\n",
    "    (df[\"subsampling-fraction\"] == 1.0) & (df[\"trie-postprocess\"] == \"naive\")\n",
    "].copy()\n"
   ]
  },
  {
   "cell_type": "code",
   "execution_count": null,
   "metadata": {},
   "outputs": [],
   "source": [
    "df[\"regime\"] = df.apply(\n",
    "    lambda row: {\n",
    "        (1, 1, 2, 3.0517578125e-08): \"plain\",\n",
    "        (1, 1, 1, 3.0517578125e-08): \"neutral selection\",\n",
    "        (1, 1, 8, 3.0517578125e-08): \"strong selection\",\n",
    "        (1, 4, 2, 3.0517578125e-06): \"weak 4 niche ecology\",\n",
    "        (1, 4, 2, 3.0517578125e-08): \"4 niche ecology\",\n",
    "        (1, 8, 2, 3.0517578125e-08): \"8 niche ecology\",\n",
    "        (1024, 1, 2, 3.0517578125e-08): \"spatial structure\",\n",
    "    }.get(\n",
    "        tuple(\n",
    "            row[\n",
    "                [\n",
    "                    \"num_islands\",\n",
    "                    \"num_niches\",\n",
    "                    \"tournament_size\",\n",
    "                    \"p_niche_invasion\",\n",
    "                ]\n",
    "            ]\n",
    "        ),\n",
    "        np.nan,  # default\n",
    "    ),\n",
    "    axis=\"columns\",\n",
    ")\n"
   ]
  },
  {
   "cell_type": "code",
   "execution_count": null,
   "metadata": {},
   "outputs": [],
   "source": [
    "df[\"quality\"] = df.apply(\n",
    "    lambda row: {\n",
    "        (\"reconstructed-tree\", 3.0): \"33% resolution\",\n",
    "        (\"reconstructed-tree\", 10.0): \"10% resolution\",\n",
    "        (\"reconstructed-tree\", 30.0): \"3% resolution\",\n",
    "        (\"reconstructed-tree\", 100.0): \"1% resolution\",\n",
    "        (\"collapsed-phylogeny\", 0): \"perfect resolution\",\n",
    "    }.get(\n",
    "        tuple(row[[\"a\", \"resolution\"]].fillna(0)),\n",
    "        np.nan,  # default\n",
    "    ),\n",
    "    axis=\"columns\",\n",
    ")\n",
    "df = df.dropna(axis=\"index\", subset=[\"regime\", \"quality\"]).copy()\n",
    "df[\"quality\"].unique()\n"
   ]
  },
  {
   "cell_type": "code",
   "execution_count": null,
   "metadata": {},
   "outputs": [],
   "source": [
    "sensitivity_analysis_variables = [\n",
    "    \"epoch\",\n",
    "    \"mut_distn\",\n",
    "]\n",
    "\n",
    "df[\"sensitivity_analysis_variables\"] = df[\n",
    "    sensitivity_analysis_variables\n",
    "].apply(kn.pack, axis=1)\n"
   ]
  },
  {
   "cell_type": "code",
   "execution_count": null,
   "metadata": {},
   "outputs": [],
   "source": [
    "stats = df.groupby(\n",
    "    [\"regime\", \"quality\", \"sensitivity_analysis_variables\"], as_index=False\n",
    ").agg(\n",
    "    {\n",
    "        \"triplet_distance\": [\"mean\", \"median\", \"std\", \"max\"],\n",
    "    }\n",
    ")\n",
    "stats.columns = stats.columns.map(' '.join)\n",
    "with pd.option_context(\"display.max_colwidth\", None, \"display.max_rows\", None):\n",
    "    display(stats)\n"
   ]
  },
  {
   "cell_type": "code",
   "execution_count": null,
   "metadata": {},
   "outputs": [],
   "source": [
    "os.makedirs(\"outdata\", exist_ok=True)\n",
    "stats.to_csv(\n",
    "    \"outdata/a=tree-reconstruction-quality-triplet-summary-statistics.csv\", index=False\n",
    ")\n"
   ]
  },
  {
   "cell_type": "code",
   "execution_count": null,
   "metadata": {},
   "outputs": [],
   "source": [
    "stats = df.groupby(\n",
    "    [\"regime\", \"quality\", \"sensitivity_analysis_variables\"], as_index=False\n",
    ").agg(\n",
    "    {\n",
    "        \"quartet_distance\": [\"mean\", \"median\", \"std\", \"max\"],\n",
    "    }\n",
    ")\n",
    "stats.columns = stats.columns.map(' '.join)\n",
    "with pd.option_context(\"display.max_colwidth\", None, \"display.max_rows\", None):\n",
    "    display(stats)\n"
   ]
  },
  {
   "cell_type": "code",
   "execution_count": null,
   "metadata": {},
   "outputs": [],
   "source": [
    "os.makedirs(\"outdata\", exist_ok=True)\n",
    "stats.to_csv(\n",
    "    \"outdata/a=tree-reconstruction-quality-quartet-summary-statistics.csv\", index=False\n",
    ")\n"
   ]
  }
 ],
 "metadata": {
  "kernelspec": {
   "display_name": "Python 3 (ipykernel)",
   "language": "python",
   "name": "python3"
  },
  "language_info": {
   "codemirror_mode": {
    "name": "ipython",
    "version": 3
   },
   "file_extension": ".py",
   "mimetype": "text/x-python",
   "name": "python",
   "nbconvert_exporter": "python",
   "pygments_lexer": "ipython3"
  }
 },
 "nbformat": 4,
 "nbformat_minor": 5
}
