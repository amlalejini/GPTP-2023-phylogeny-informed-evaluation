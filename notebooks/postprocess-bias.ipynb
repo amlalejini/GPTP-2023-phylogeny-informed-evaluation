{
 "cells": [
  {
   "cell_type": "code",
   "execution_count": null,
   "metadata": {},
   "outputs": [],
   "source": [
    "import itertools as it\n",
    "\n",
    "from matplotlib import pyplot as plt\n",
    "from nbmetalog import nbmetalog as nbm\n",
    "import numpy as np\n",
    "import pandas as pd\n",
    "import seaborn as sns\n",
    "from teeplot import teeplot as tp\n"
   ]
  },
  {
   "cell_type": "code",
   "execution_count": null,
   "metadata": {},
   "outputs": [],
   "source": [
    "# prints metadata about notebook runtime\n",
    "nbm.print_metadata()\n"
   ]
  },
  {
   "cell_type": "code",
   "execution_count": null,
   "metadata": {},
   "outputs": [],
   "source": [
    "df = pd.read_csv(\"https://osf.io/5trmg/download\")\n",
    "dfdigest = np.bitwise_xor.reduce(\n",
    "    pd.util.hash_pandas_object(df),\n",
    ")\n",
    "print(\"{:x}\".format(dfdigest))\n",
    "df\n"
   ]
  },
  {
   "cell_type": "code",
   "execution_count": null,
   "metadata": {},
   "outputs": [],
   "source": [
    "# phylometrics whittled down to descriptive, non-redundant set\n",
    "phylometrics = [\n",
    "    #     'diversity',\n",
    "    \"colless_like_index\",\n",
    "    #     'average_depth',\n",
    "    #     'average_origin_time',\n",
    "    #     'average_origin_time_normalized',\n",
    "    #     'max_depth',\n",
    "    \"mean_pairwise_distance\",\n",
    "    #     'mean_pairwise_distance_branch_only',\n",
    "    #     'num_active',\n",
    "    \"num_ancestors\",\n",
    "    #     'num_outside',\n",
    "    #     'num_roots',\n",
    "    #     'num_taxa',\n",
    "    #     'phylogenetic_diversity',\n",
    "    #     'sum_pairwise_distance',\n",
    "    #     'sum_pairwise_distance_branch_only',\n",
    "    #     'total_orgs',\n",
    "    #     'tree_size',\n",
    "    #     'variance_pairwise_distance',\n",
    "    #     'variance_pairwise_distance_branch_only',\n",
    "    #     'mrca_depth',\n",
    "    #     'sackin_index',\n",
    "    \"mean_evolutionary_distinctiveness\",\n",
    "    #     'sum_evolutionary_distinctiveness',\n",
    "    #     'variance_evolutionary_distinctiveness',\n",
    "]\n"
   ]
  },
  {
   "cell_type": "code",
   "execution_count": null,
   "metadata": {},
   "outputs": [],
   "source": [
    "methodological_variables = [\n",
    "    \"resolution\",\n",
    "    \"trie-postprocess\",\n",
    "]\n"
   ]
  },
  {
   "cell_type": "code",
   "execution_count": null,
   "metadata": {},
   "outputs": [],
   "source": [
    "evolutionary_variables = [\n",
    "    \"num_islands\",\n",
    "    \"num_niches\",\n",
    "    \"tournament_size\",\n",
    "]\n"
   ]
  },
  {
   "cell_type": "code",
   "execution_count": null,
   "metadata": {},
   "outputs": [],
   "source": [
    "sensitivity_analysis_variables = [\n",
    "    \"epoch\",\n",
    "    \"mut_distn\",\n",
    "]\n"
   ]
  },
  {
   "cell_type": "code",
   "execution_count": null,
   "metadata": {},
   "outputs": [],
   "source": [
    "fixed_variables = [\n",
    "    \"num_generations\",  # homogeneous (num generations per epoch)\n",
    "    \"p_island_migration\",  # homogeneous\n",
    "    \"population_size\",  # homogeneous\n",
    "    \"p_niche_invasion\",  # only use 3.0517578125e-08\n",
    "    \"subsampling-fraction\",  # only use 1.0\n",
    "]\n"
   ]
  },
  {
   "cell_type": "code",
   "execution_count": null,
   "metadata": {},
   "outputs": [],
   "source": [
    "# ensure fixed variables\n",
    "df = df[\n",
    "    (df[\"p_island_migration\"] == 0.01)\n",
    "    & (df[\"p_niche_invasion\"] == 3.0517578125e-08)\n",
    "    & ((df[\"subsampling-fraction\"] == 1.0) | df[\"subsampling-fraction\"].isna())\n",
    "].copy()\n",
    "\n",
    "for fixed_variable in fixed_variables:\n",
    "    assert len(df[fixed_variable].dropna().unique()) == 1, excluded_variable\n",
    "\n",
    "df\n"
   ]
  },
  {
   "cell_type": "code",
   "execution_count": null,
   "metadata": {},
   "outputs": [],
   "source": [
    "# exclude extraneous variable values\n",
    "df = df[(df[\"a\"] != \"consolidated-phylogeny\")].copy()\n",
    "\n",
    "df\n"
   ]
  },
  {
   "cell_type": "code",
   "execution_count": null,
   "metadata": {},
   "outputs": [],
   "source": [
    "df[\"num_niches\"].unique()\n"
   ]
  },
  {
   "cell_type": "code",
   "execution_count": null,
   "metadata": {},
   "outputs": [],
   "source": [
    "df[\"num_islands\"].unique()\n"
   ]
  },
  {
   "cell_type": "code",
   "execution_count": null,
   "metadata": {},
   "outputs": [],
   "source": [
    "df[\"tournament_size\"].unique()\n"
   ]
  },
  {
   "cell_type": "code",
   "execution_count": null,
   "metadata": {},
   "outputs": [],
   "source": [
    "df[\"a\"].unique()\n"
   ]
  },
  {
   "cell_type": "code",
   "execution_count": null,
   "metadata": {},
   "outputs": [],
   "source": [
    "df[\"regime\"] = df.apply(\n",
    "    lambda row: {\n",
    "        (1, 1, 2): \"plain\",\n",
    "        (1, 1, 1): \"weak selection\",\n",
    "        (1, 1, 4): \"strong selection\",\n",
    "        (1, 4, 2): \"4 niche ecology\",\n",
    "        (1, 8, 2): \"8 niche ecology\",\n",
    "        (1024, 1, 2): \"spatial structure\",\n",
    "    }.get(\n",
    "        tuple(row[[\"num_islands\", \"num_niches\", \"tournament_size\"]]),\n",
    "        np.nan,  # default\n",
    "    ),\n",
    "    axis=\"columns\",\n",
    ")\n",
    "df = df.dropna(axis=\"index\", subset=[\"regime\"])\n",
    "df[\"regime\"].unique()\n"
   ]
  },
  {
   "cell_type": "code",
   "execution_count": null,
   "metadata": {},
   "outputs": [],
   "source": [
    "df[df[\"a\"] == \"collapsed-phylogeny\"][\"regime\"].unique()\n"
   ]
  },
  {
   "cell_type": "code",
   "execution_count": null,
   "metadata": {},
   "outputs": [],
   "source": [
    "for setup, setup_df in df.groupby(sensitivity_analysis_variables):\n",
    "    print(f\"{setup=}\")\n",
    "    for regime, regime_df in setup_df.groupby([\"regime\"]):\n",
    "        ground_truth = regime_df[(regime_df[\"a\"] == \"collapsed-phylogeny\")][\n",
    "            \"average_origin_time_normalized\"\n",
    "        ].mean()\n",
    "        print(f\"   regime {ground_truth=}\")\n",
    "\n",
    "        for group, group_df in regime_df[\n",
    "            (regime_df[\"a\"] == \"reconstructed-tree\")\n",
    "        ].groupby([\"trie-postprocess\", \"resolution\"]):\n",
    "            err = (\n",
    "                group_df[\"average_origin_time_normalized\"].mean()\n",
    "                - ground_truth\n",
    "            )\n",
    "            print(\"      \", group, len(group_df), err)\n"
   ]
  }
 ],
 "metadata": {
  "kernelspec": {
   "display_name": "Python 3",
   "language": "python",
   "name": "python3"
  },
  "language_info": {
   "codemirror_mode": {
    "name": "ipython",
    "version": 3
   },
   "file_extension": ".py",
   "mimetype": "text/x-python",
   "name": "python",
   "nbconvert_exporter": "python",
   "pygments_lexer": "ipython3"
  }
 },
 "nbformat": 4,
 "nbformat_minor": 5
}
