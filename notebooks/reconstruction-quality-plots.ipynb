{
 "cells": [
  {
   "cell_type": "code",
   "execution_count": null,
   "metadata": {},
   "outputs": [],
   "source": [
    "from keyname import keyname as kn\n",
    "import matplotlib.pyplot as plt\n",
    "from nbmetalog import nbmetalog as nbm\n",
    "import numpy as np\n",
    "import pandas as pd\n",
    "import ptitprince as pt\n",
    "import seaborn as sns\n",
    "from teeplot import teeplot\n"
   ]
  },
  {
   "cell_type": "code",
   "execution_count": null,
   "metadata": {},
   "outputs": [],
   "source": [
    "# prints metadata about notebook runtime\n",
    "nbm.print_metadata()\n"
   ]
  },
  {
   "cell_type": "code",
   "execution_count": null,
   "metadata": {},
   "outputs": [],
   "source": [
    "df = pd.read_csv(\"https://osf.io/ck47r/download\")\n",
    "dfdigest = np.bitwise_xor.reduce(\n",
    "    pd.util.hash_pandas_object(df),\n",
    ")\n",
    "print(\"{:x}\".format(dfdigest))\n",
    "df\n"
   ]
  },
  {
   "cell_type": "code",
   "execution_count": null,
   "metadata": {},
   "outputs": [],
   "source": [
    "methodological_variables = [\n",
    "#  'resolution',\n",
    " 'subsampling-fraction',\n",
    " 'trie-postprocess',  # pick one based on bias/accuracy\n",
    "]\n",
    "\n",
    "evolutionary_variables = [\n",
    " 'mut_distn',  # sensitivity analysis\n",
    " 'num_generations',  # sensitivity analysis\n",
    " 'num_islands',\n",
    " 'num_niches',\n",
    " 'p_island_migration',  # sensitivity analysis\n",
    " 'p_niche_invasion',  # sensitivity analysis\n",
    " 'population_size',  # doesn't change\n",
    " 'tournament_size',\n",
    "]\n"
   ]
  },
  {
   "cell_type": "code",
   "execution_count": null,
   "metadata": {},
   "outputs": [],
   "source": [
    "df = df[\n",
    "    (df['subsampling-fraction'] == 1.0) &\n",
    "    (df['trie-postprocess'] == 'naive')\n",
    "]\n"
   ]
  },
  {
   "cell_type": "code",
   "execution_count": null,
   "metadata": {},
   "outputs": [],
   "source": [
    "sensitivity_analysis_variables = [\n",
    "    \"epoch\",\n",
    "    \"mut_distn\",\n",
    "]\n",
    "\n",
    "df[\"sensitivity_analysis_variables\"] = df[\n",
    "    sensitivity_analysis_variables\n",
    "].apply(kn.pack, axis=1)\n"
   ]
  },
  {
   "cell_type": "code",
   "execution_count": null,
   "metadata": {},
   "outputs": [],
   "source": [
    "df[\"regime\"] = df.apply(\n",
    "    lambda row: {\n",
    "        (1, 1, 2, 3.0517578125e-08): \"plain\",\n",
    "        (1, 1, 1, 3.0517578125e-08): \"neutral_selection\",\n",
    "        (1, 1, 8, 3.0517578125e-08): \"strong_selection\",\n",
    "        (1, 4, 2, 3.0517578125e-06): \"weak_4_niche_ecology\",\n",
    "        (1, 4, 2, 3.0517578125e-08): \"4_niche_ecology\",\n",
    "        (1, 8, 2, 3.0517578125e-08): \"8_niche_ecology\",\n",
    "        (1024, 1, 2, 3.0517578125e-08): \"spatial_structure\",\n",
    "    }.get(\n",
    "        tuple(\n",
    "            row[\n",
    "                [\n",
    "                    \"num_islands\",\n",
    "                    \"num_niches\",\n",
    "                    \"tournament_size\",\n",
    "                    \"p_niche_invasion\",\n",
    "                ]\n",
    "            ]\n",
    "        ),\n",
    "        np.nan,  # default\n",
    "    ),\n",
    "    axis=\"columns\",\n",
    ")\n"
   ]
  },
  {
   "cell_type": "code",
   "execution_count": null,
   "metadata": {},
   "outputs": [],
   "source": [
    "for viz in sns.barplot, pt.RainCloud:\n",
    "    for group, group_df in df.groupby(sensitivity_analysis_variables + ['regime']):\n",
    "        teeplot.tee(\n",
    "            viz,\n",
    "            data=group_df,\n",
    "            x='resolution',\n",
    "            y='quartet_distance',\n",
    "            teeplot_outattrs={\n",
    "                a: b for a, b in zip(sensitivity_analysis_variables + ['regime'], group)\n",
    "            }\n",
    "        )\n",
    "        plt.show()\n"
   ]
  }
 ],
 "metadata": {
  "kernelspec": {
   "display_name": "Python 3 (ipykernel)",
   "language": "python",
   "name": "python3"
  },
  "language_info": {
   "codemirror_mode": {
    "name": "ipython",
    "version": 3
   },
   "file_extension": ".py",
   "mimetype": "text/x-python",
   "name": "python",
   "nbconvert_exporter": "python",
   "pygments_lexer": "ipython3"
  }
 },
 "nbformat": 4,
 "nbformat_minor": 5
}
